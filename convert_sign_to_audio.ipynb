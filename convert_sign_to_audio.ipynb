{
 "cells": [
  {
   "cell_type": "code",
   "execution_count": 1,
   "metadata": {},
   "outputs": [],
   "source": [
    "import simpleaudio as sa\n",
    "import numpy as np\n",
    "from pathlib import Path\n",
    "import pandas as pd"
   ]
  },
  {
   "cell_type": "code",
   "execution_count": 2,
   "metadata": {},
   "outputs": [],
   "source": [
    "file = Path('/Users/salvatoreesposito/Downloads/emg.csv')\n",
    "emg_data=pd.read_csv(file, sep=\",\")\n",
    "channel1_data = emg_data[emg_data.columns[0]]"
   ]
  },
  {
   "cell_type": "code",
   "execution_count": 3,
   "metadata": {},
   "outputs": [
    {
     "ename": "KeyboardInterrupt",
     "evalue": "",
     "output_type": "error",
     "traceback": [
      "\u001b[0;31m---------------------------------------------------------------------------\u001b[0m",
      "\u001b[0;31mKeyboardInterrupt\u001b[0m                         Traceback (most recent call last)",
      "\u001b[0;32m/var/folders/ky/pv6235qs0vz0y3g7h8037cvw0000gn/T/ipykernel_28664/3600162259.py\u001b[0m in \u001b[0;36m<module>\u001b[0;34m\u001b[0m\n\u001b[1;32m     29\u001b[0m \u001b[0;34m\u001b[0m\u001b[0m\n\u001b[1;32m     30\u001b[0m \u001b[0;31m# wait for playback to finish before exiting\u001b[0m\u001b[0;34m\u001b[0m\u001b[0;34m\u001b[0m\u001b[0m\n\u001b[0;32m---> 31\u001b[0;31m \u001b[0mplay_obj\u001b[0m\u001b[0;34m.\u001b[0m\u001b[0mwait_done\u001b[0m\u001b[0;34m(\u001b[0m\u001b[0;34m)\u001b[0m\u001b[0;34m\u001b[0m\u001b[0;34m\u001b[0m\u001b[0m\n\u001b[0m",
      "\u001b[0;32m/usr/local/anaconda3/envs/cybernetic_gans/lib/python3.9/site-packages/simpleaudio/shiny.py\u001b[0m in \u001b[0;36mwait_done\u001b[0;34m(self)\u001b[0m\n\u001b[1;32m     47\u001b[0m     \u001b[0;32mdef\u001b[0m \u001b[0mwait_done\u001b[0m\u001b[0;34m(\u001b[0m\u001b[0mself\u001b[0m\u001b[0;34m)\u001b[0m\u001b[0;34m:\u001b[0m\u001b[0;34m\u001b[0m\u001b[0;34m\u001b[0m\u001b[0m\n\u001b[1;32m     48\u001b[0m         \u001b[0;32mwhile\u001b[0m \u001b[0mself\u001b[0m\u001b[0;34m.\u001b[0m\u001b[0mis_playing\u001b[0m\u001b[0;34m(\u001b[0m\u001b[0;34m)\u001b[0m\u001b[0;34m:\u001b[0m\u001b[0;34m\u001b[0m\u001b[0;34m\u001b[0m\u001b[0m\n\u001b[0;32m---> 49\u001b[0;31m             \u001b[0msleep\u001b[0m\u001b[0;34m(\u001b[0m\u001b[0;36m0.05\u001b[0m\u001b[0;34m)\u001b[0m\u001b[0;34m\u001b[0m\u001b[0;34m\u001b[0m\u001b[0m\n\u001b[0m\u001b[1;32m     50\u001b[0m \u001b[0;34m\u001b[0m\u001b[0m\n\u001b[1;32m     51\u001b[0m     \u001b[0;32mdef\u001b[0m \u001b[0mis_playing\u001b[0m\u001b[0;34m(\u001b[0m\u001b[0mself\u001b[0m\u001b[0;34m)\u001b[0m\u001b[0;34m:\u001b[0m\u001b[0;34m\u001b[0m\u001b[0;34m\u001b[0m\u001b[0m\n",
      "\u001b[0;31mKeyboardInterrupt\u001b[0m: "
     ]
    }
   ],
   "source": [
    "\n",
    "\n",
    "# calculate note frequencies\n",
    "# A_freq = 440\n",
    "# Csh_freq = A_freq * 2 ** (4 / 12)\n",
    "# E_freq = A_freq * 2 ** (7 / 12)\n",
    "\n",
    "# # get timesteps for each sample, T is note duration in seconds\n",
    "sample_rate = 44100\n",
    "# T = 1\n",
    "# t = np.linspace(0, T, T * sample_rate, False)\n",
    "\n",
    "# # generate sine wave notes\n",
    "# A_note = np.sin(A_freq * t * 2 * np.pi)\n",
    "# Csh_note = np.sin(Csh_freq * t * 2 * np.pi)\n",
    "# E_note = np.sin(E_freq * t * 2 * np.pi)\n",
    "\n",
    "# concatenate notes\n",
    "# audio = np.hstack((A_note, Csh_note, E_note))\n",
    "# normalize to 16-bit range\n",
    "audio = np.array(channel1_data)\n",
    "# audio_array = np.full_like(audio,1000)\n",
    "# audio = audio * audio_array\n",
    "audio *= 32767 / max(abs(audio))\n",
    "\n",
    "# convert to 16-bit data\n",
    "audio = audio.astype(np.int16)\n",
    "\n",
    "# start playback\n",
    "play_obj = sa.play_buffer(audio, 1, 2, sample_rate)\n",
    "\n",
    "# wait for playback to finish before exiting\n",
    "play_obj.wait_done()"
   ]
  },
  {
   "cell_type": "code",
   "execution_count": null,
   "metadata": {},
   "outputs": [],
   "source": []
  }
 ],
 "metadata": {
  "interpreter": {
   "hash": "c1fa69e459716118b735ec3113a3143b9260393a7820ae2ba9ab062787be8f7a"
  },
  "kernelspec": {
   "display_name": "Python 3.9.7 64-bit ('cybernetic_gans': conda)",
   "language": "python",
   "name": "python3"
  },
  "language_info": {
   "codemirror_mode": {
    "name": "ipython",
    "version": 3
   },
   "file_extension": ".py",
   "mimetype": "text/x-python",
   "name": "python",
   "nbconvert_exporter": "python",
   "pygments_lexer": "ipython3",
   "version": "3.9.7"
  },
  "orig_nbformat": 4
 },
 "nbformat": 4,
 "nbformat_minor": 2
}
